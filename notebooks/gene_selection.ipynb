{
 "cells": [
  {
   "cell_type": "markdown",
   "metadata": {},
   "source": [
    "# Gene selection widget prototype\n",
    "\n",
    "This implemets a searchable list of genes, of which multiple can me selected (Cmd-click).\n",
    "\n",
    "## Possible extensions\n",
    "\n",
    "* Speed up updates to options in each selector. Takes a while when it's a long list.\n",
    "* Figure out a better api for formatting gene options"
   ]
  },
  {
   "cell_type": "markdown",
   "metadata": {},
   "source": [
    "# Setup"
   ]
  },
  {
   "cell_type": "code",
   "execution_count": null,
   "metadata": {},
   "outputs": [],
   "source": [
    "import matplotlib as mpl\n",
    "mpl.use(\"Agg\") # Only for output example\n",
    "import matplotlib.pyplot as plt"
   ]
  },
  {
   "cell_type": "code",
   "execution_count": null,
   "metadata": {},
   "outputs": [],
   "source": [
    "import pandas as pd\n",
    "import numpy as np\n",
    "import scanpy.api as sc\n",
    "import ipywidgets\n",
    "from functools import partial\n",
    "from itertools import repeat\n",
    "import io"
   ]
  },
  {
   "cell_type": "code",
   "execution_count": null,
   "metadata": {},
   "outputs": [],
   "source": [
    "from ipywidgets import Text, SelectMultiple, Button, Image, HBox, VBox, Output\n",
    "from ipywidgets import GridBox, Layout"
   ]
  },
  {
   "cell_type": "markdown",
   "metadata": {},
   "source": [
    "Preprocess data"
   ]
  },
  {
   "cell_type": "code",
   "execution_count": null,
   "metadata": {},
   "outputs": [],
   "source": [
    "# An already processed anndata\n",
    "# adata = sc.read(\"../data/CellBench10X.h5ad\")\n",
    "adata = sc.read(\"../data/CellBench10X_noraw.h5ad\", backed=\"r\") # also works with a backed anndata"
   ]
  },
  {
   "cell_type": "code",
   "execution_count": null,
   "metadata": {},
   "outputs": [],
   "source": [
    "# Something I'd like to handle better\n",
    "adata.var[\"search_field\"] = adata.var[\"gene_symbol\"].astype(str) + \" (\" + adata.var_names.values + \")\""
   ]
  },
  {
   "cell_type": "markdown",
   "metadata": {},
   "source": [
    "# Basic example"
   ]
  },
  {
   "cell_type": "markdown",
   "metadata": {},
   "source": [
    "**NOTE:** These require the mpl inline backend, but importing that makes the caching example not work."
   ]
  },
  {
   "cell_type": "markdown",
   "metadata": {},
   "source": [
    "## Callbacks"
   ]
  },
  {
   "cell_type": "code",
   "execution_count": null,
   "metadata": {},
   "outputs": [],
   "source": [
    "def sorting_callback(search):\n",
    "    options = pd.Series(selection.options)\n",
    "    new_options = options.copy()\n",
    "    is_match = options.str.contains(search.new, case=False)\n",
    "    found = options[is_match].values\n",
    "    found.sort()\n",
    "    new_options.iloc[:len(found)] = found\n",
    "    new_options.iloc[len(found):] = options[~is_match].values\n",
    "    selection.options = new_options"
   ]
  },
  {
   "cell_type": "code",
   "execution_count": null,
   "metadata": {},
   "outputs": [],
   "source": [
    "def plot_selected(selected):\n",
    "    selected_indices = adata.var_names[adata.var[\"search_field\"].isin(selected.new)]\n",
    "    out.clear_output()\n",
    "    with out:\n",
    "        sc.pl.umap(adata, color=selected_indices)"
   ]
  },
  {
   "cell_type": "markdown",
   "metadata": {},
   "source": [
    "## Plotting"
   ]
  },
  {
   "cell_type": "code",
   "execution_count": null,
   "metadata": {
    "scrolled": false
   },
   "outputs": [],
   "source": [
    "# Widgets\n",
    "out = ipywidgets.Output()\n",
    "searchbar = ipywidgets.Text(value=\"search here\", continuous_update=False)\n",
    "selection = ipywidgets.SelectMultiple(options=adata.var[\"search_field\"])\n",
    "\n",
    "# Callbacks\n",
    "searchbar.observe(sorting_callback, names=[\"value\"])\n",
    "selection.observe(plot_selected, names=[\"value\"])\n",
    "\n",
    "# Output\n",
    "ipywidgets.VBox([searchbar, selection, out])"
   ]
  },
  {
   "cell_type": "code",
   "execution_count": null,
   "metadata": {},
   "outputs": [],
   "source": [
    "def gene_selector(adata):\n",
    "    left_search = Text(\"search here\", continuous_update=False)\n",
    "    right_search = Text(\"seach here\", continuous_update=False)\n",
    "    \n",
    "    left_options = SelectMultiple(options=adata.var[\"search_field\"])\n",
    "    right_options = SelectMultiple(options=[])\n",
    "    \n",
    "    move_right = Button(description=\">>\")\n",
    "    move_left = Button(description=\"<<\")\n",
    "    \n",
    "    plots = Output()\n",
    "    \n",
    "    def sorting_callback(search, selection):\n",
    "        options = pd.Series(selection.options)\n",
    "        new_options = options.copy()\n",
    "        is_match = options.str.contains(search.new, case=False)\n",
    "        found = options[is_match].values\n",
    "        found.sort()\n",
    "        new_options.iloc[:len(found)] = found\n",
    "        new_options.iloc[len(found):] = options[~is_match].values\n",
    "        selection.options = new_options\n",
    "        \n",
    "    def move_selection(button, orig, dest):\n",
    "        \"\"\"\n",
    "        Args:\n",
    "            button:\n",
    "                Button which triggers callback\n",
    "            orig:\n",
    "                Selector options are moving from\n",
    "            dest:\n",
    "                Selector options are moving to\n",
    "        \"\"\"\n",
    "        dest_new_opts = list(orig.value)\n",
    "        orig_new_opts = list()\n",
    "        for option in orig.options:\n",
    "            if option not in orig.value:\n",
    "                orig_new_opts.append(option)\n",
    "        dest_new_opts.extend(dest.options)\n",
    "        dest.values = []\n",
    "        dest.options = dest_new_opts\n",
    "        orig.options = orig_new_opts\n",
    "        \n",
    "    def plot_selected(selected, out):\n",
    "        selected_indices = adata.var_names[adata.var[\"search_field\"].isin(selected.new)]\n",
    "        out.clear_output()\n",
    "        if len(selected_indices) > 0:\n",
    "            with out:\n",
    "                sc.pl.umap(adata, color=selected_indices)\n",
    "        \n",
    "    left_search.observe(partial(sorting_callback, selection=left_options), names=[\"value\"])\n",
    "    right_search.observe(partial(sorting_callback, selection=right_options), names=[\"value\"])\n",
    "    \n",
    "    move_right.on_click(partial(move_selection, orig=left_options, dest=right_options))\n",
    "    move_left.on_click(partial(move_selection, orig=right_options, dest=left_options))\n",
    "    \n",
    "    right_options.observe(partial(plot_selected, out=plots), names=[\"options\"])\n",
    "    \n",
    "    layout = VBox([\n",
    "        HBox([\n",
    "            VBox([left_search, left_options]),\n",
    "            VBox([move_right, move_left]),\n",
    "            VBox([right_search, right_options])\n",
    "        ]),\n",
    "        plots\n",
    "    ])\n",
    "    \n",
    "    return layout"
   ]
  },
  {
   "cell_type": "code",
   "execution_count": null,
   "metadata": {
    "scrolled": false
   },
   "outputs": [],
   "source": [
    "gene_selector(adata)"
   ]
  },
  {
   "cell_type": "markdown",
   "metadata": {},
   "source": [
    "## Experiment: filtering search instead of sorting (failed)"
   ]
  },
  {
   "cell_type": "markdown",
   "metadata": {},
   "source": [
    "In this version, I'll only update with values that match the search, possibly speeding up the process.\n",
    "\n",
    "This adds a a lot of complication to the code. For example, if move some values over and there is a search applied, do I show them? Do I now have to retrigger the search? It might not be worth it. Moving the search to javascript might be the way to go."
   ]
  },
  {
   "cell_type": "code",
   "execution_count": null,
   "metadata": {},
   "outputs": [],
   "source": [
    "def gene_selector(adata):\n",
    "    left_search = Text(\"search here\", continuous_update=False)\n",
    "    right_search = Text(\"seach here\", continuous_update=False)\n",
    "    \n",
    "    left_options = adata.var[\"search_field\"].values\n",
    "    right_options = pd.Series()\n",
    "    \n",
    "    left_selector = SelectMultiple(options=left_options)\n",
    "    right_selector = SelectMultiple(options=[])\n",
    "    \n",
    "    move_right = Button(description=\">>\")\n",
    "    move_left = Button(description=\"<<\")\n",
    "    \n",
    "    plots = Output()\n",
    "    \n",
    "    def search_callback(search, options, selection):\n",
    "        \"\"\"\n",
    "        Update selection with fields from options which contain search.\n",
    "\n",
    "        Args:\n",
    "            search (str):\n",
    "                Search term/ regex.\n",
    "            options (Sequence[str])\n",
    "            selection (SelectMultiple)\n",
    "        \"\"\"\n",
    "        options = pd.Series(options)\n",
    "        is_match = options.str.contains(search.new, case=False)\n",
    "        new_options = options[is_match]\n",
    "        new_options.sort_values()\n",
    "        selection.options = new_options\n",
    "        \n",
    "    def move_selection(button, orig, dest, orig_options, dest_options):\n",
    "        \"\"\"\n",
    "        Args:\n",
    "            button:\n",
    "                Button which triggers callback\n",
    "            orig:\n",
    "                Selector options are moving from\n",
    "            dest:\n",
    "                Selector options are moving to\n",
    "            orig_options:\n",
    "                Options for selector orig\n",
    "            dest_options:\n",
    "                Options for selector dest\n",
    "        \"\"\"\n",
    "        dest_new_opts = dest_options\n",
    "        orig_new_opts = orig_options\n",
    "        for option in orig.options:\n",
    "            if option not in orig.value:\n",
    "                orig_new_opts.append(option)\n",
    "        dest_new_opts.extend(dest.options)\n",
    "        dest.values = []\n",
    "        dest.options = dest_new_opts\n",
    "        orig.options = orig_new_opts\n",
    "        \n",
    "    def plot_selected(selected, out):\n",
    "        selected_indices = adata.var_names[adata.var[\"search_field\"].isin(selected.new)]\n",
    "        out.clear_output()\n",
    "        if len(selected_indices) > 0:\n",
    "            with out:\n",
    "                sc.pl.umap(adata, color=selected_indices)\n",
    "        \n",
    "    left_search.observe(partial(search_callback, options=left_options, selection=left_selector), names=[\"value\"])\n",
    "    right_search.observe(partial(search_callback, options=right_options, selection=right_selector), names=[\"value\"])\n",
    "    \n",
    "    move_right.on_click(partial(move_selection, orig=left_selector, dest=right_selector,\n",
    "                               orig_options=left_options, dest_options=left_options))\n",
    "    move_left.on_click(partial(move_selection, orig=right_selector, dest=left_selector, \n",
    "                               orig_options=right_options, dest_options=left_options))\n",
    "    \n",
    "    right_selector.observe(partial(plot_selected, out=plots), names=[\"options\"])\n",
    "    \n",
    "    layout = VBox([\n",
    "        HBox([\n",
    "            VBox([left_search, left_selector]),\n",
    "            VBox([move_right, move_left]),\n",
    "            VBox([right_search, right_selector])\n",
    "        ]),\n",
    "        plots\n",
    "    ])\n",
    "    \n",
    "    return layout"
   ]
  },
  {
   "cell_type": "code",
   "execution_count": null,
   "metadata": {
    "scrolled": false
   },
   "outputs": [],
   "source": [
    "gene_selector(adata)"
   ]
  },
  {
   "cell_type": "markdown",
   "metadata": {},
   "source": [
    "## Experiment: Caching plots"
   ]
  },
  {
   "cell_type": "markdown",
   "metadata": {},
   "source": [
    "* I would like to cache plots between selections, this should make displaying them faster especially when I'm working with more cells.\n",
    "* This was reaaaaally slow once. Not sure what to make of that. Generally, this is much faster.\n",
    "* This one requires non-inline backend, or you'll get plots returned multiple times. Not sure what to do about that."
   ]
  },
  {
   "cell_type": "code",
   "execution_count": null,
   "metadata": {},
   "outputs": [],
   "source": [
    "# Define callbacks\n",
    "def sorting_callback(search, selection):\n",
    "    \"\"\"\n",
    "    Args:\n",
    "        search (str):\n",
    "            Search term/ regex.\n",
    "        selection (SelectMultiple)\n",
    "    \"\"\"\n",
    "    options = pd.Series(selection.options)\n",
    "    new_options = options.copy()\n",
    "    is_match = options.str.contains(search.new, case=False)\n",
    "    found = options[is_match].values\n",
    "    found.sort()\n",
    "    new_options.iloc[:len(found)] = found\n",
    "    new_options.iloc[len(found):] = options[~is_match].values\n",
    "    selection.options = new_options\n",
    "\n",
    "def move_selection(button, orig, dest):\n",
    "    \"\"\"\n",
    "    Args:\n",
    "        button:\n",
    "            Button which triggers callback\n",
    "        orig:\n",
    "            Selector options are moving from\n",
    "        dest:\n",
    "            Selector options are moving to\n",
    "    \"\"\"\n",
    "    dest_new_opts = list(orig.value)\n",
    "    orig_new_opts = list()\n",
    "    for option in orig.options:\n",
    "        if option not in orig.value:\n",
    "            orig_new_opts.append(option)\n",
    "    dest_new_opts.extend(dest.options)\n",
    "    dest.values = []\n",
    "    dest.options = dest_new_opts\n",
    "    orig.options = orig_new_opts\n",
    "\n",
    "def plot_selected(adata, selected, plot_grid, plot_cache):\n",
    "    \"\"\"\n",
    "    Args:\n",
    "        adata (anndata.AnnData):\n",
    "            AnnData object to be plotting from.\n",
    "        selected:\n",
    "            Object from selection callback\n",
    "        plot_grid (ipywidgets.GridBox):\n",
    "            Grid box to put plots in.\n",
    "        plot_cache (dict):\n",
    "            Cache of previously rendered plots.\n",
    "    \"\"\"\n",
    "    selected_items = adata.var.loc[adata.var[\"search_field\"].isin(selected.new), \"search_field\"]\n",
    "    for index, option in selected_items.iteritems():\n",
    "        if option not in plot_cache:\n",
    "            fig = sc.pl.umap(adata, color=index, show=False, title=option).figure\n",
    "            with io.BytesIO() as byteio:\n",
    "                fig.savefig(byteio, format=\"png\")\n",
    "                img = ipywidgets.Image(value=byteio.getvalue(), format=\"png\")\n",
    "            plt.close(fig)\n",
    "            plot_cache[option] = img\n",
    "    plotlist = []\n",
    "    if len(selected_items) > 0:\n",
    "        for option in selected_items:\n",
    "            plot = plot_cache[option]\n",
    "            plotlist.append(plot)\n",
    "    plot_grid.children = plotlist"
   ]
  },
  {
   "cell_type": "code",
   "execution_count": null,
   "metadata": {},
   "outputs": [],
   "source": [
    "def gene_selector(adata, ncols=3):\n",
    "    # Define elements\n",
    "    left_search = Text(\"search here\", continuous_update=False)\n",
    "    right_search = Text(\"seach here\", continuous_update=False)\n",
    "    \n",
    "    left_selector = SelectMultiple(options=adata.var[\"search_field\"])\n",
    "    right_selector = SelectMultiple(options=[])\n",
    "    \n",
    "    move_right = Button(description=\">>\")\n",
    "    move_left = Button(description=\"<<\")\n",
    "    \n",
    "    plot_grid = GridBox(layout=Layout(grid_template_columns=\" \".join(repeat(\"1fr\", ncols))))\n",
    "    plot_cache = {}\n",
    "    \n",
    "    # Register callbacks\n",
    "    left_search.observe(partial(sorting_callback, selection=left_selector), names=[\"value\"])\n",
    "    right_search.observe(partial(sorting_callback, selection=right_selector), names=[\"value\"])\n",
    "    \n",
    "    move_right.on_click(partial(move_selection, orig=left_selector, dest=right_selector))\n",
    "    move_left.on_click(partial(move_selection, orig=right_selector, dest=left_selector))\n",
    "    \n",
    "    right_selector.observe(partial(plot_selected, adata, plot_grid=plot_grid, plot_cache=plot_cache), names=[\"options\"])\n",
    "    \n",
    "    # Define layout\n",
    "    layout = VBox([\n",
    "        HBox([\n",
    "            VBox([left_search, left_selector]),\n",
    "            VBox([move_right, move_left]),\n",
    "            VBox([right_search, right_selector])\n",
    "        ]),\n",
    "        plot_grid\n",
    "    ])\n",
    "    \n",
    "    return layout"
   ]
  },
  {
   "cell_type": "code",
   "execution_count": null,
   "metadata": {
    "scrolled": true
   },
   "outputs": [],
   "source": [
    "gene_selector(adata, ncols=2)"
   ]
  }
 ],
 "metadata": {
  "kernelspec": {
   "display_name": "Python 3.6",
   "language": "python",
   "name": "python3"
  },
  "language_info": {
   "codemirror_mode": {
    "name": "ipython",
    "version": 3
   },
   "file_extension": ".py",
   "mimetype": "text/x-python",
   "name": "python",
   "nbconvert_exporter": "python",
   "pygments_lexer": "ipython3",
   "version": "3.6.5"
  },
  "toc": {
   "colors": {
    "hover_highlight": "#DAA520",
    "navigate_num": "#000000",
    "navigate_text": "#333333",
    "running_highlight": "#FF0000",
    "selected_highlight": "#FFD700",
    "sidebar_border": "#EEEEEE",
    "wrapper_background": "#FFFFFF"
   },
   "moveMenuLeft": true,
   "nav_menu": {
    "height": "50px",
    "width": "252.6666717529297px"
   },
   "navigate_menu": true,
   "number_sections": false,
   "sideBar": false,
   "threshold": 4,
   "toc_cell": false,
   "toc_section_display": "block",
   "toc_window_display": false,
   "widenNotebook": false
  }
 },
 "nbformat": 4,
 "nbformat_minor": 2
}
