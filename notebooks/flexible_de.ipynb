{
 "cells": [
  {
   "cell_type": "markdown",
   "metadata": {},
   "source": [
    "This notebook contains some experimentation I've been doing with making it easier to get data to plot. In this case, I'm trying to make it easier to customize a dot plot (using [`altair`](https://altair-viz.github.io/index.html)) for differential expression."
   ]
  },
  {
   "cell_type": "code",
   "execution_count": 1,
   "metadata": {},
   "outputs": [],
   "source": [
    "import scanpy as sc\n",
    "from anndata import AnnData\n",
    "import pandas as pd\n",
    "import numpy as np\n",
    "import xarray as xr\n",
    "\n",
    "from typing import Iterable, Optional"
   ]
  },
  {
   "cell_type": "code",
   "execution_count": 2,
   "metadata": {},
   "outputs": [],
   "source": [
    "sc.settings.datasetdir = \"../data\""
   ]
  },
  {
   "cell_type": "code",
   "execution_count": 3,
   "metadata": {},
   "outputs": [
    {
     "data": {
      "text/plain": [
       "RendererRegistry.enable('notebook')"
      ]
     },
     "execution_count": 3,
     "metadata": {},
     "output_type": "execute_result"
    }
   ],
   "source": [
    "import altair as alt\n",
    "alt.renderers.enable('notebook')"
   ]
  },
  {
   "cell_type": "markdown",
   "metadata": {},
   "source": [
    "# Defining functions"
   ]
  },
  {
   "cell_type": "markdown",
   "metadata": {},
   "source": [
    "Adding `groupby` functionality to `AnnData` to help calculate some aggregate gene metrics for each group."
   ]
  },
  {
   "cell_type": "code",
   "execution_count": 4,
   "metadata": {},
   "outputs": [],
   "source": [
    "class Grouped(object):\n",
    "    \"\"\"\n",
    "    Generic grouped object for split-apply-combine style workflows.\n",
    "    \n",
    "    Designed to be used with chainable calls.\n",
    "    \"\"\"\n",
    "    def __init__(self, groups: dict):\n",
    "        self.groups = groups\n",
    "    \n",
    "    def __iter__(self):\n",
    "        for k, v in self.groups.items():\n",
    "            yield (k, v)\n",
    "\n",
    "    def apply(self, func):\n",
    "        \"\"\"\n",
    "        Apply func to each value, returning a Grouped result.\n",
    "        \"\"\"\n",
    "        return Grouped({k: func(v) for k, v in self})\n",
    "    \n",
    "    def mutate(self, func):\n",
    "        \"\"\"\n",
    "        Apply mutating func to each value.\n",
    "        \n",
    "        In contrast with apply, this method assumes passed `func` modifies \n",
    "        the values in place, and return the current Grouped.\n",
    "        \"\"\"\n",
    "        for k, v in self:\n",
    "            func(v)\n",
    "        return self\n",
    "    \n",
    "    def combine(self, func):\n",
    "        return func(self.groups)\n",
    "    \n",
    "\n",
    "def groupby(adata, *, obs=None, var=None):\n",
    "    is_obs = obs is not None\n",
    "    is_var = var is not None\n",
    "    if is_obs == is_var:\n",
    "        raise ValueError(\"Can only groupby obs or var\")\n",
    "    if is_obs:\n",
    "        dim = 0\n",
    "        grouped = adata.obs.groupby(obs)\n",
    "        make_idx = lambda x: (x, slice(None))\n",
    "    elif is_var:\n",
    "        dim =1\n",
    "        grouped = adata.var.groupby(var)\n",
    "        make_idx = lambda x: (slice(None), x)\n",
    "    return Grouped({k: adata[make_idx(v.index)] for k, v in grouped})\n",
    "\n",
    "# To get values by leiden\n",
    "setattr(AnnData, \"groupby\", groupby)"
   ]
  },
  {
   "cell_type": "markdown",
   "metadata": {},
   "source": [
    "`rank_genes_groups_df` is to make it less painful to work with the output of `sc.tl.rank_genes_groups`. I'm aiming on adding this to `sc.utils` by `v1.5`."
   ]
  },
  {
   "cell_type": "code",
   "execution_count": 5,
   "metadata": {},
   "outputs": [],
   "source": [
    "def rank_genes_groups_df(\n",
    "    adata: AnnData,\n",
    "    group: str,  # Can this be something other than a str?\n",
    "    *,\n",
    "    genes: Optional[Iterable[str]] = None,  # TODO: Implement\n",
    "    key: str = \"rank_genes_groups\",\n",
    "    pval_cutoff: Optional[float] = 0.05,\n",
    "    logfc_cutoff: Optional[float] = None,\n",
    "    gene_symbols: Optional[str] = None\n",
    ") -> pd.DataFrame:\n",
    "    \"\"\"\n",
    "    Get `rank_genes_groups` results in the form of a :class:`pd.DataFrame`.\n",
    "\n",
    "    Params\n",
    "    ------\n",
    "    adata\n",
    "        Object to get results from.\n",
    "    group\n",
    "        Which group (key from :func:`scanpy.tl.rank_genes_groups` `groupby`) to\n",
    "        return results from.\n",
    "    genes\n",
    "        Only return values for these genes.\n",
    "    key\n",
    "        Key differential expression groups were stored under.\n",
    "    pval_cutoff\n",
    "        Minimum adjusted pval to return.\n",
    "    logfc_cutoff\n",
    "        Minumum logfc to return.\n",
    "    gene_symbols\n",
    "        Column name in `.var` DataFrame that stores gene symbols. By default `var_names` \n",
    "        refer to the index column of the `.var` DataFrame. Setting this option allows\n",
    "        alternative names to be used.\n",
    "    \"\"\"\n",
    "    d = pd.DataFrame()\n",
    "    for k in ['scores', 'names', 'logfoldchanges', 'pvals', 'pvals_adj']:\n",
    "        d[k] = adata.uns[\"rank_genes_groups\"][k][group]\n",
    "    if pval_cutoff is not None:\n",
    "        d = d[d[\"pvals_adj\"] < pval_cutoff]\n",
    "    if logfc_cutoff is not None:\n",
    "        d = d[d[\"logfoldchanges\"].abs() > logfc_cutoff]\n",
    "    if gene_symbols is not None:\n",
    "        d = d.join(adata.var[gene_symbols], on=\"names\")\n",
    "    return d"
   ]
  },
  {
   "cell_type": "code",
   "execution_count": 6,
   "metadata": {},
   "outputs": [],
   "source": [
    "def de_dataset(adata, *, grouper=None, key=\"rank_genes_groups\"):\n",
    "    \"\"\"\n",
    "    Versus rest, style de tests returned as an xarray dataset.\n",
    "    \n",
    "    Really, this is just to make the \"rank_genes_groups\" results easier to work with.\n",
    "    It should also be pretty straight forwards to get this working with diffxpy.\n",
    "    \n",
    "    Returns\n",
    "    -------\n",
    "    An xarray dataset with `genes`, `groups` as coordinate dimensions.\n",
    "    \"\"\"\n",
    "    keys = ['logfoldchanges', 'pvals', 'pvals_adj', 'scores']\n",
    "    genes_index = pd.Index(adata.var_names, name=\"genes\")\n",
    "    # Make sure we've got DE values:\n",
    "    if grouper:\n",
    "        sc.tl.rank_genes_groups(adata, groupby=grouper, key_added=key, method=\"wilcoxon\", n_genes=adata.shape[1])\n",
    "    else:\n",
    "        grouper = pbmc.uns[\"rank_genes_groups\"][\"params\"][\"groupby\"]\n",
    "    groups = adata.obs[grouper].cat.categories\n",
    "    dedfs = {}\n",
    "    for g in groups:\n",
    "        dedf = rank_genes_groups_df(pbmc, g, pval_cutoff=None).set_index(\"names\")\n",
    "        dedf.index.name = \"genes\"\n",
    "        dedfs[g] = dedf\n",
    "    results = xr.Dataset(coords={\"genes\": adata.var_names, \"group\": groups})\n",
    "    for k in keys:\n",
    "        df = pd.DataFrame(index=genes_index)\n",
    "        for g in groups:\n",
    "            df[g] = dedfs[g][k]\n",
    "        df.columns.name = \"group\"\n",
    "        results[k] = df\n",
    "    return results"
   ]
  },
  {
   "cell_type": "markdown",
   "metadata": {},
   "source": [
    "# Usage:"
   ]
  },
  {
   "cell_type": "markdown",
   "metadata": {},
   "source": [
    "## From counts (including preprocessing):"
   ]
  },
  {
   "cell_type": "code",
   "execution_count": 7,
   "metadata": {},
   "outputs": [],
   "source": [
    "pbmc = sc.datasets.pbmc3k() # Gotta use a dataset where I have reasonable count values\n",
    "sc.pp.filter_genes(pbmc, min_counts=1)\n",
    "# pbmc.var[\"mito\"] = pbmc.var_names.str.startswith(\"MT-\")\n",
    "# sc.pp.calculate_qc_metrics(pbmc, qc_vars=[\"mito\"], inplace=True)\n",
    "sc.pp.normalize_per_cell(pbmc, counts_per_cell_after=1000)\n",
    "sc.pp.log1p(pbmc)\n",
    "sc.pp.pca(pbmc)\n",
    "sc.pp.neighbors(pbmc)\n",
    "sc.tl.leiden(pbmc)"
   ]
  },
  {
   "cell_type": "code",
   "execution_count": 8,
   "metadata": {},
   "outputs": [
    {
     "name": "stdout",
     "output_type": "stream",
     "text": [
      "CPU times: user 5.71 s, sys: 1.74 s, total: 7.45 s\n",
      "Wall time: 7.46 s\n"
     ]
    }
   ],
   "source": [
    "%time diffx = de_dataset(pbmc, grouper=\"leiden\")  # Slower than I would like"
   ]
  },
  {
   "cell_type": "code",
   "execution_count": 9,
   "metadata": {},
   "outputs": [],
   "source": [
    "leiden_grouped = pbmc.groupby(obs=\"leiden\")\n",
    "\n",
    "means = (\n",
    "    leiden_grouped\n",
    "    .apply(lambda adata: pd.Series(np.ravel(adata.X.mean(axis=0)), index=adata.var_names))\n",
    "    .combine(pd.DataFrame)\n",
    ")\n",
    "means.index.name, means.columns.name = \"genes\", \"group\"\n",
    "diffx[\"means\"] = means\n",
    "\n",
    "pct_expressed = (\n",
    "    leiden_grouped\n",
    "    .apply(lambda adata: pd.Series(np.ravel((adata.X != 0).sum(axis=0) / adata.shape[0]), index=adata.var_names))\n",
    "    .combine(pd.DataFrame)\n",
    ")\n",
    "pct_expressed.index.name, pct_expressed.columns.name = \"genes\", \"group\"\n",
    "diffx[\"pct_expressed\"] = pct_expressed"
   ]
  },
  {
   "cell_type": "code",
   "execution_count": 10,
   "metadata": {},
   "outputs": [
    {
     "data": {
      "text/plain": [
       "<xarray.Dataset>\n",
       "Dimensions:         (genes: 16634, group: 10)\n",
       "Coordinates:\n",
       "  * genes           (genes) object 'AL627309.1' 'AP006222.2' ... 'SRSF10-1'\n",
       "  * group           (group) object '0' '1' '2' '3' '4' '5' '6' '7' '8' '9'\n",
       "Data variables:\n",
       "    logfoldchanges  (genes, group) float32 -1.4300877 3.0801282 ... -23.030983\n",
       "    pvals           (genes, group) float64 0.948 0.7053 0.9873 ... 0.5076 0.8831\n",
       "    pvals_adj       (genes, group) float64 0.9996 0.9999 1.0 ... 0.9986 0.9988\n",
       "    scores          (genes, group) float32 -0.06527658 ... -0.14707822\n",
       "    means           (genes, group) float32 0.00047222507 0.0040058913 ... 0.0\n",
       "    pct_expressed   (genes, group) float64 0.001876 0.01227 ... 0.08163 0.0"
      ]
     },
     "execution_count": 10,
     "metadata": {},
     "output_type": "execute_result"
    }
   ],
   "source": [
    "diffx"
   ]
  },
  {
   "cell_type": "markdown",
   "metadata": {},
   "source": [
    "## Plotting"
   ]
  },
  {
   "cell_type": "code",
   "execution_count": 11,
   "metadata": {},
   "outputs": [],
   "source": [
    "marker_genes = ['CD79A', 'MS4A1', 'CD8A', 'CD8B', 'LYZ',  'LGALS3', 'S100A8', 'GNLY', 'NKG7', 'KLRB1',\n",
    "                'FCGR3A', 'FCER1A', 'CST3']\n",
    "\n",
    "plotdf = diffx.loc[{\"genes\": marker_genes}].to_dataframe().reset_index()"
   ]
  },
  {
   "cell_type": "code",
   "execution_count": 12,
   "metadata": {},
   "outputs": [
    {
     "data": {
      "text/html": [
       "<div>\n",
       "<style scoped>\n",
       "    .dataframe tbody tr th:only-of-type {\n",
       "        vertical-align: middle;\n",
       "    }\n",
       "\n",
       "    .dataframe tbody tr th {\n",
       "        vertical-align: top;\n",
       "    }\n",
       "\n",
       "    .dataframe thead th {\n",
       "        text-align: right;\n",
       "    }\n",
       "</style>\n",
       "<table border=\"1\" class=\"dataframe\">\n",
       "  <thead>\n",
       "    <tr style=\"text-align: right;\">\n",
       "      <th></th>\n",
       "      <th>genes</th>\n",
       "      <th>group</th>\n",
       "      <th>logfoldchanges</th>\n",
       "      <th>pvals</th>\n",
       "      <th>pvals_adj</th>\n",
       "      <th>scores</th>\n",
       "      <th>means</th>\n",
       "      <th>pct_expressed</th>\n",
       "    </tr>\n",
       "  </thead>\n",
       "  <tbody>\n",
       "    <tr>\n",
       "      <th>0</th>\n",
       "      <td>CD79A</td>\n",
       "      <td>0</td>\n",
       "      <td>-3.065463</td>\n",
       "      <td>4.449992e-06</td>\n",
       "      <td>2.615589e-04</td>\n",
       "      <td>-4.589176</td>\n",
       "      <td>0.022879</td>\n",
       "      <td>0.061914</td>\n",
       "    </tr>\n",
       "    <tr>\n",
       "      <th>1</th>\n",
       "      <td>CD79A</td>\n",
       "      <td>1</td>\n",
       "      <td>-3.809518</td>\n",
       "      <td>1.202422e-07</td>\n",
       "      <td>3.752549e-06</td>\n",
       "      <td>-5.293127</td>\n",
       "      <td>0.013637</td>\n",
       "      <td>0.036810</td>\n",
       "    </tr>\n",
       "    <tr>\n",
       "      <th>2</th>\n",
       "      <td>CD79A</td>\n",
       "      <td>2</td>\n",
       "      <td>-4.300896</td>\n",
       "      <td>8.722850e-07</td>\n",
       "      <td>9.421811e-05</td>\n",
       "      <td>-4.918458</td>\n",
       "      <td>0.009182</td>\n",
       "      <td>0.017192</td>\n",
       "    </tr>\n",
       "    <tr>\n",
       "      <th>3</th>\n",
       "      <td>CD79A</td>\n",
       "      <td>3</td>\n",
       "      <td>6.616068</td>\n",
       "      <td>2.264877e-170</td>\n",
       "      <td>1.255799e-166</td>\n",
       "      <td>27.823336</td>\n",
       "      <td>1.022081</td>\n",
       "      <td>0.933526</td>\n",
       "    </tr>\n",
       "    <tr>\n",
       "      <th>4</th>\n",
       "      <td>CD79A</td>\n",
       "      <td>4</td>\n",
       "      <td>-3.273080</td>\n",
       "      <td>1.144630e-04</td>\n",
       "      <td>5.159829e-03</td>\n",
       "      <td>-3.857692</td>\n",
       "      <td>0.018278</td>\n",
       "      <td>0.046440</td>\n",
       "    </tr>\n",
       "  </tbody>\n",
       "</table>\n",
       "</div>"
      ],
      "text/plain": [
       "   genes group  logfoldchanges          pvals      pvals_adj     scores  \\\n",
       "0  CD79A     0       -3.065463   4.449992e-06   2.615589e-04  -4.589176   \n",
       "1  CD79A     1       -3.809518   1.202422e-07   3.752549e-06  -5.293127   \n",
       "2  CD79A     2       -4.300896   8.722850e-07   9.421811e-05  -4.918458   \n",
       "3  CD79A     3        6.616068  2.264877e-170  1.255799e-166  27.823336   \n",
       "4  CD79A     4       -3.273080   1.144630e-04   5.159829e-03  -3.857692   \n",
       "\n",
       "      means  pct_expressed  \n",
       "0  0.022879       0.061914  \n",
       "1  0.013637       0.036810  \n",
       "2  0.009182       0.017192  \n",
       "3  1.022081       0.933526  \n",
       "4  0.018278       0.046440  "
      ]
     },
     "execution_count": 12,
     "metadata": {},
     "output_type": "execute_result"
    }
   ],
   "source": [
    "plotdf.head()"
   ]
  },
  {
   "cell_type": "code",
   "execution_count": 13,
   "metadata": {
    "scrolled": false
   },
   "outputs": [
    {
     "data": {
      "application/javascript": [
       "var spec = {\"config\": {\"view\": {\"width\": 400, \"height\": 300}}, \"data\": {\"name\": \"data-174c7229e7da68c5905b63a9e414650b\"}, \"mark\": \"circle\", \"encoding\": {\"color\": {\"type\": \"quantitative\", \"field\": \"pvals_adj\", \"scale\": {\"domain\": [1, 0], \"scheme\": \"reds\"}}, \"size\": {\"type\": \"quantitative\", \"field\": \"pct_expressed\"}, \"x\": {\"type\": \"ordinal\", \"field\": \"group\"}, \"y\": {\"type\": \"ordinal\", \"field\": \"genes\"}}, \"$schema\": \"https://vega.github.io/schema/vega-lite/v2.6.0.json\", \"datasets\": {\"data-174c7229e7da68c5905b63a9e414650b\": [{\"genes\": \"CD79A\", \"group\": \"0\", \"logfoldchanges\": -3.065462589263916, \"pvals\": 4.449991874780175e-06, \"pvals_adj\": 0.000261558886378422, \"scores\": -4.589176177978516, \"means\": 0.022879287600517273, \"pct_expressed\": 0.06191369606003752}, {\"genes\": \"CD79A\", \"group\": \"1\", \"logfoldchanges\": -3.8095176219940186, \"pvals\": 1.2024219599305247e-07, \"pvals_adj\": 3.752549133486745e-06, \"scores\": -5.293127059936523, \"means\": 0.013637129217386246, \"pct_expressed\": 0.03680981595092025}, {\"genes\": \"CD79A\", \"group\": \"2\", \"logfoldchanges\": -4.300896167755127, \"pvals\": 8.722849819767152e-07, \"pvals_adj\": 9.421810642987456e-05, \"scores\": -4.918458461761475, \"means\": 0.009182129055261612, \"pct_expressed\": 0.017191977077363897}, {\"genes\": \"CD79A\", \"group\": \"3\", \"logfoldchanges\": 6.616067886352539, \"pvals\": 2.264877017650775e-170, \"pvals_adj\": 1.2557988103867663e-166, \"scores\": 27.823335647583008, \"means\": 1.0220812559127808, \"pct_expressed\": 0.9335260115606936}, {\"genes\": \"CD79A\", \"group\": \"4\", \"logfoldchanges\": -3.2730801105499268, \"pvals\": 0.00011446296914278312, \"pvals_adj\": 0.0051598293461275185, \"scores\": -3.857691526412964, \"means\": 0.01827823929488659, \"pct_expressed\": 0.04643962848297214}, {\"genes\": \"CD79A\", \"group\": \"5\", \"logfoldchanges\": -4.014149188995361, \"pvals\": 6.108932911485319e-05, \"pvals_adj\": 0.0037086127755345546, \"scores\": -4.008563041687012, \"means\": 0.010833232663571835, \"pct_expressed\": 0.028985507246376812}, {\"genes\": \"CD79A\", \"group\": \"6\", \"logfoldchanges\": -3.4749858379364014, \"pvals\": 0.011659781598638952, \"pvals_adj\": 0.18228271345090255, \"scores\": -2.5222771167755127, \"means\": 0.014982449822127819, \"pct_expressed\": 0.054878048780487805}, {\"genes\": \"CD79A\", \"group\": \"7\", \"logfoldchanges\": -4.622347831726074, \"pvals\": 0.0014368384174932804, \"pvals_adj\": 0.0512883481471743, \"scores\": -3.1871466636657715, \"means\": 0.0068054948933422565, \"pct_expressed\": 0.01875}, {\"genes\": \"CD79A\", \"group\": \"8\", \"logfoldchanges\": 0.13032840192317963, \"pvals\": 0.48030338467112244, \"pvals_adj\": 0.9986010129836819, \"scores\": 0.7058147192001343, \"means\": 0.1592101752758026, \"pct_expressed\": 0.22448979591836735}, {\"genes\": \"CD79A\", \"group\": \"9\", \"logfoldchanges\": -27.24118995666504, \"pvals\": 0.36385278518488084, \"pvals_adj\": 0.9987796114685209, \"scores\": -0.908048152923584, \"means\": 0.0, \"pct_expressed\": 0.0}, {\"genes\": \"MS4A1\", \"group\": \"0\", \"logfoldchanges\": -3.0372793674468994, \"pvals\": 9.526752367754488e-07, \"pvals_adj\": 6.190156206454224e-05, \"scores\": -4.901170253753662, \"means\": 0.016354352235794067, \"pct_expressed\": 0.0525328330206379}, {\"genes\": \"MS4A1\", \"group\": \"1\", \"logfoldchanges\": -2.7721636295318604, \"pvals\": 1.2014902679262481e-05, \"pvals_adj\": 0.00030373235739643176, \"scores\": -4.377317428588867, \"means\": 0.01916203275322914, \"pct_expressed\": 0.05930470347648262}, {\"genes\": \"MS4A1\", \"group\": \"2\", \"logfoldchanges\": -2.4331159591674805, \"pvals\": 9.727814783908513e-05, \"pvals_adj\": 0.0068564606404887376, \"scores\": -3.897282361984253, \"means\": 0.022791925817728043, \"pct_expressed\": 0.045845272206303724}, {\"genes\": \"MS4A1\", \"group\": \"3\", \"logfoldchanges\": 5.744746685028076, \"pvals\": 3.681885833109121e-142, \"pvals_adj\": 1.0207414824656186e-138, \"scores\": 25.385120391845703, \"means\": 0.6943022608757019, \"pct_expressed\": 0.8583815028901735}, {\"genes\": \"MS4A1\", \"group\": \"4\", \"logfoldchanges\": -3.196929693222046, \"pvals\": 4.630395255521857e-05, \"pvals_adj\": 0.0022521051076125898, \"scores\": -4.073539733886719, \"means\": 0.013513240031898022, \"pct_expressed\": 0.03715170278637771}, {\"genes\": \"MS4A1\", \"group\": \"5\", \"logfoldchanges\": -2.792466163635254, \"pvals\": 0.000774211313971728, \"pvals_adj\": 0.03679494570458778, \"scores\": -3.36185359954834, \"means\": 0.017454350367188454, \"pct_expressed\": 0.050724637681159424}, {\"genes\": \"MS4A1\", \"group\": \"6\", \"logfoldchanges\": -2.4102954864501953, \"pvals\": 0.04609240437254079, \"pvals_adj\": 0.5511869549481262, \"scores\": -1.9945461750030518, \"means\": 0.021743331104516983, \"pct_expressed\": 0.07926829268292683}, {\"genes\": \"MS4A1\", \"group\": \"7\", \"logfoldchanges\": -2.444295644760132, \"pvals\": 0.018052104121132406, \"pvals_adj\": 0.4605501532989516, \"scores\": -2.3645477294921875, \"means\": 0.021220754832029343, \"pct_expressed\": 0.05625}, {\"genes\": \"MS4A1\", \"group\": \"8\", \"logfoldchanges\": -1.9445713758468628, \"pvals\": 0.41659725250298096, \"pvals_adj\": 0.9986010129836819, \"scores\": -0.8123388290405273, \"means\": 0.028785504400730133, \"pct_expressed\": 0.10204081632653061}, {\"genes\": \"MS4A1\", \"group\": \"9\", \"logfoldchanges\": -26.730159759521484, \"pvals\": 0.3672409933037637, \"pvals_adj\": 0.9987796114685209, \"scores\": -0.9016534686088562, \"means\": 0.0, \"pct_expressed\": 0.0}, {\"genes\": \"CD8A\", \"group\": \"0\", \"logfoldchanges\": -1.7422235012054443, \"pvals\": 0.003032492508381369, \"pvals_adj\": 0.09571628156435616, \"scores\": -2.9644248485565186, \"means\": 0.021944845095276833, \"pct_expressed\": 0.054409005628517824}, {\"genes\": \"CD8A\", \"group\": \"1\", \"logfoldchanges\": -3.4914839267730713, \"pvals\": 2.417018495865677e-05, \"pvals_adj\": 0.0005912453773563186, \"scores\": -4.222412109375, \"means\": 0.006802302319556475, \"pct_expressed\": 0.02044989775051125}, {\"genes\": \"CD8A\", \"group\": \"2\", \"logfoldchanges\": 3.6426470279693604, \"pvals\": 9.630475390550144e-42, \"pvals_adj\": 1.0012082977900693e-38, \"scores\": 13.535666465759277, \"means\": 0.2953123152256012, \"pct_expressed\": 0.498567335243553}, {\"genes\": \"CD8A\", \"group\": \"3\", \"logfoldchanges\": -2.7570831775665283, \"pvals\": 0.0012293353689599126, \"pvals_adj\": 0.03425253689661505, \"scores\": -3.231984853744507, \"means\": 0.010563439689576626, \"pct_expressed\": 0.02601156069364162}, {\"genes\": \"CD8A\", \"group\": \"4\", \"logfoldchanges\": 0.1511548012495041, \"pvals\": 0.5241686588256473, \"pvals_adj\": 0.9999089575788878, \"scores\": 0.6369327306747437, \"means\": 0.06753722578287125, \"pct_expressed\": 0.1393188854489164}, {\"genes\": \"CD8A\", \"group\": \"5\", \"logfoldchanges\": -0.2952142655849457, \"pvals\": 0.7915374025188725, \"pvals_adj\": 0.9997054800184413, \"scores\": -0.264314740896225, \"means\": 0.05160460248589516, \"pct_expressed\": 0.11231884057971014}, {\"genes\": \"CD8A\", \"group\": \"6\", \"logfoldchanges\": -3.320935010910034, \"pvals\": 0.03571344906593978, \"pvals_adj\": 0.4559152047297332, \"scores\": -2.100174903869629, \"means\": 0.006736282724887133, \"pct_expressed\": 0.03048780487804878}, {\"genes\": \"CD8A\", \"group\": \"7\", \"logfoldchanges\": -0.882497251033783, \"pvals\": 0.3169158491483678, \"pvals_adj\": 1.0, \"scores\": -1.0008158683776855, \"means\": 0.03493887186050415, \"pct_expressed\": 0.075}, {\"genes\": \"CD8A\", \"group\": \"8\", \"logfoldchanges\": -0.3727194666862488, \"pvals\": 0.9986719702701415, \"pvals_adj\": 0.9998741756033185, \"scores\": 0.0016644392162561417, \"means\": 0.04825736954808235, \"pct_expressed\": 0.12244897959183673}, {\"genes\": \"CD8A\", \"group\": \"9\", \"logfoldchanges\": -25.931976318359375, \"pvals\": 0.4938277555800681, \"pvals_adj\": 0.9987796114685209, \"scores\": -0.6842334866523743, \"means\": 0.0, \"pct_expressed\": 0.0}, {\"genes\": \"CD8B\", \"group\": \"0\", \"logfoldchanges\": -1.6309229135513306, \"pvals\": 0.00489678889113112, \"pvals_adj\": 0.14416493170809744, \"scores\": -2.8137459754943848, \"means\": 0.029888268560171127, \"pct_expressed\": 0.06566604127579738}, {\"genes\": \"CD8B\", \"group\": \"1\", \"logfoldchanges\": -4.404472827911377, \"pvals\": 2.528152981748286e-06, \"pvals_adj\": 6.860244159608644e-05, \"scores\": -4.705845832824707, \"means\": 0.004653313662856817, \"pct_expressed\": 0.016359918200409}, {\"genes\": \"CD8B\", \"group\": \"2\", \"logfoldchanges\": 2.742215871810913, \"pvals\": 5.738522538595178e-24, \"pvals_adj\": 3.535354959518229e-21, \"scores\": 10.096266746520996, \"means\": 0.2824510335922241, \"pct_expressed\": 0.40974212034383956}, {\"genes\": \"CD8B\", \"group\": \"3\", \"logfoldchanges\": -3.7779698371887207, \"pvals\": 0.000111170278469912, \"pvals_adj\": 0.0040552772194485005, \"scores\": -3.8648219108581543, \"means\": 0.006719284690916538, \"pct_expressed\": 0.014450867052023121}, {\"genes\": \"CD8B\", \"group\": \"4\", \"logfoldchanges\": 1.3131223917007446, \"pvals\": 4.196959109107209e-05, \"pvals_adj\": 0.0020593574578433426, \"scores\": 4.096360683441162, \"means\": 0.1588481068611145, \"pct_expressed\": 0.2476780185758514}, {\"genes\": \"CD8B\", \"group\": \"5\", \"logfoldchanges\": 0.8621026277542114, \"pvals\": 0.0366553823898084, \"pvals_adj\": 0.8979758920059985, \"scores\": 2.0895817279815674, \"means\": 0.12778082489967346, \"pct_expressed\": 0.19202898550724637}, {\"genes\": \"CD8B\", \"group\": \"6\", \"logfoldchanges\": -3.0732054710388184, \"pvals\": 0.0438115895371091, \"pvals_adj\": 0.5303944544106788, \"scores\": -2.0158889293670654, \"means\": 0.01014902163296938, \"pct_expressed\": 0.042682926829268296}, {\"genes\": \"CD8B\", \"group\": \"7\", \"logfoldchanges\": -4.2363104820251465, \"pvals\": 0.009828188478720254, \"pvals_adj\": 0.2747561788756685, \"scores\": -2.5818161964416504, \"means\": 0.004558456130325794, \"pct_expressed\": 0.0125}, {\"genes\": \"CD8B\", \"group\": \"8\", \"logfoldchanges\": -0.6596487760543823, \"pvals\": 0.9296320820822319, \"pvals_adj\": 0.9986010129836819, \"scores\": 0.08830774575471878, \"means\": 0.05039678141474724, \"pct_expressed\": 0.14285714285714285}, {\"genes\": \"CD8B\", \"group\": \"9\", \"logfoldchanges\": -26.27933120727539, \"pvals\": 0.4686156854600365, \"pvals_adj\": 0.9987796114685209, \"scores\": -0.7247332334518433, \"means\": 0.0, \"pct_expressed\": 0.0}, {\"genes\": \"LYZ\", \"group\": \"0\", \"logfoldchanges\": -2.490936517715454, \"pvals\": 1.9666439332305144e-24, \"pvals_adj\": 6.172293431199316e-22, \"scores\": -10.200791358947754, \"means\": 0.23923364281654358, \"pct_expressed\": 0.5196998123827392}, {\"genes\": \"LYZ\", \"group\": \"1\", \"logfoldchanges\": 5.331157207489014, \"pvals\": 7.293734676261075e-256, \"pvals_adj\": 1.213239826049267e-251, \"scores\": 34.167728424072266, \"means\": 2.837061643600464, \"pct_expressed\": 1.0}, {\"genes\": \"LYZ\", \"group\": \"2\", \"logfoldchanges\": -2.5607426166534424, \"pvals\": 3.0541951630844694e-21, \"pvals_adj\": 1.539499464931729e-18, \"scores\": -9.460860252380371, \"means\": 0.21255424618721008, \"pct_expressed\": 0.41260744985673353}, {\"genes\": \"LYZ\", \"group\": \"3\", \"logfoldchanges\": -2.422520637512207, \"pvals\": 1.4727022191347381e-18, \"pvals_adj\": 2.4496928713087235e-16, \"scores\": -8.791732788085938, \"means\": 0.23039686679840088, \"pct_expressed\": 0.42196531791907516}, {\"genes\": \"LYZ\", \"group\": \"4\", \"logfoldchanges\": -2.39548659324646, \"pvals\": 4.187330449933632e-15, \"pvals_adj\": 5.197914530163883e-13, \"scores\": -7.849189758300781, \"means\": 0.23198279738426208, \"pct_expressed\": 0.5077399380804953}, {\"genes\": \"LYZ\", \"group\": \"5\", \"logfoldchanges\": -2.4396841526031494, \"pvals\": 1.3061719408205e-14, \"pvals_adj\": 1.8569969285135212e-12, \"scores\": -7.705220699310303, \"means\": 0.2218513935804367, \"pct_expressed\": 0.4855072463768116}, {\"genes\": \"LYZ\", \"group\": \"6\", \"logfoldchanges\": 1.0034986734390259, \"pvals\": 7.371880074882866e-29, \"pvals_adj\": 1.0051135505377181e-26, \"scores\": 11.147412300109863, \"means\": 1.1920549869537354, \"pct_expressed\": 0.9817073170731707}, {\"genes\": \"LYZ\", \"group\": \"7\", \"logfoldchanges\": -2.5017812252044678, \"pvals\": 3.14232022753467e-10, \"pvals_adj\": 2.613467733240585e-08, \"scores\": -6.291589260101318, \"means\": 0.20423398911952972, \"pct_expressed\": 0.40625}, {\"genes\": \"LYZ\", \"group\": \"8\", \"logfoldchanges\": 2.2838759422302246, \"pvals\": 2.896975682397081e-09, \"pvals_adj\": 1.268112986868238e-06, \"scores\": 5.9373321533203125, \"means\": 1.8918131589889526, \"pct_expressed\": 0.9591836734693877}, {\"genes\": \"LYZ\", \"group\": \"9\", \"logfoldchanges\": -1.4415767192840576, \"pvals\": 0.2486781150809475, \"pvals_adj\": 0.9987796114685209, \"scores\": -1.1535661220550537, \"means\": 0.36706244945526123, \"pct_expressed\": 0.36363636363636365}, {\"genes\": \"LGALS3\", \"group\": \"0\", \"logfoldchanges\": -1.2953029870986938, \"pvals\": 4.092047837837768e-07, \"pvals_adj\": 2.8126910634129516e-05, \"scores\": -5.064625263214111, \"means\": 0.06800244003534317, \"pct_expressed\": 0.13696060037523453}, {\"genes\": \"LGALS3\", \"group\": \"1\", \"logfoldchanges\": 3.180330753326416, \"pvals\": 7.192333813313843e-102, \"pvals_adj\": 2.175223284557499e-99, \"scores\": 21.428857803344727, \"means\": 0.48160502314567566, \"pct_expressed\": 0.7137014314928425}, {\"genes\": \"LGALS3\", \"group\": \"2\", \"logfoldchanges\": -1.3164271116256714, \"pvals\": 7.069895824670823e-05, \"pvals_adj\": 0.005113071615111933, \"scores\": -3.973921298980713, \"means\": 0.0641564130783081, \"pct_expressed\": 0.13753581661891118}, {\"genes\": \"LGALS3\", \"group\": \"3\", \"logfoldchanges\": -3.466991662979126, \"pvals\": 1.49319112932887e-13, \"pvals_adj\": 1.6448835261759222e-11, \"scores\": -7.387763500213623, \"means\": 0.015545216389000416, \"pct_expressed\": 0.031791907514450865}, {\"genes\": \"LGALS3\", \"group\": \"4\", \"logfoldchanges\": -3.6804697513580322, \"pvals\": 1.7102396872955454e-12, \"pvals_adj\": 1.8353630295789742e-10, \"scores\": -7.056275844573975, \"means\": 0.013322662562131882, \"pct_expressed\": 0.03715170278637771}, {\"genes\": \"LGALS3\", \"group\": \"5\", \"logfoldchanges\": -3.2024827003479004, \"pvals\": 1.0519409281974496e-09, \"pvals_adj\": 1.1362328181582063e-07, \"scores\": -6.101323127746582, \"means\": 0.018088188022375107, \"pct_expressed\": 0.050724637681159424}, {\"genes\": \"LGALS3\", \"group\": \"6\", \"logfoldchanges\": 1.5874221324920654, \"pvals\": 2.0445306625076262e-19, \"pvals_adj\": 1.717612274755144e-17, \"scores\": 9.010856628417969, \"means\": 0.3442355692386627, \"pct_expressed\": 0.6646341463414634}, {\"genes\": \"LGALS3\", \"group\": \"7\", \"logfoldchanges\": -2.256812810897827, \"pvals\": 0.00011605055000842685, \"pvals_adj\": 0.005437703799549781, \"scores\": -3.8543224334716797, \"means\": 0.03285793215036392, \"pct_expressed\": 0.08125}, {\"genes\": \"LGALS3\", \"group\": \"8\", \"logfoldchanges\": 0.6856780052185059, \"pvals\": 8.819821408568958e-05, \"pvals_adj\": 0.007409540874249295, \"scores\": 3.9209563732147217, \"means\": 0.21633826196193695, \"pct_expressed\": 0.6530612244897959}, {\"genes\": \"LGALS3\", \"group\": \"9\", \"logfoldchanges\": -2.2541234493255615, \"pvals\": 0.33599310990904196, \"pvals_adj\": 0.9987796114685209, \"scores\": -0.9621124863624573, \"means\": 0.03142105042934418, \"pct_expressed\": 0.09090909090909091}, {\"genes\": \"S100A8\", \"group\": \"0\", \"logfoldchanges\": -3.9360511302948, \"pvals\": 1.515904880063442e-17, \"pvals_adj\": 2.740821932062532e-15, \"scores\": -8.525927543640137, \"means\": 0.038484323769807816, \"pct_expressed\": 0.10318949343339587}, {\"genes\": \"S100A8\", \"group\": \"1\", \"logfoldchanges\": 6.607306957244873, \"pvals\": 3.8582466025165216e-241, \"pvals_adj\": 2.1392691328753273e-237, \"scores\": 33.161563873291016, \"means\": 1.8767106533050537, \"pct_expressed\": 0.9693251533742331}, {\"genes\": \"S100A8\", \"group\": \"2\", \"logfoldchanges\": -5.22293758392334, \"pvals\": 2.6781334077453716e-17, \"pvals_adj\": 9.091443082538063e-15, \"scores\": -8.459810256958008, \"means\": 0.014693478122353554, \"pct_expressed\": 0.03724928366762178}, {\"genes\": \"S100A8\", \"group\": \"3\", \"logfoldchanges\": -4.097923278808594, \"pvals\": 3.003017867675768e-13, \"pvals_adj\": 3.1816687395489636e-11, \"scores\": -7.294261455535889, \"means\": 0.03150907903909683, \"pct_expressed\": 0.07514450867052024}, {\"genes\": \"S100A8\", \"group\": \"4\", \"logfoldchanges\": -4.128532409667969, \"pvals\": 2.773183964861635e-12, \"pvals_adj\": 2.919565953892939e-10, \"scores\": -6.988763809204102, \"means\": 0.03053288906812668, \"pct_expressed\": 0.07739938080495357}, {\"genes\": \"S100A8\", \"group\": \"5\", \"logfoldchanges\": -3.7251293659210205, \"pvals\": 2.0083630475609514e-08, \"pvals_adj\": 1.9199489042028085e-06, \"scores\": -5.611279487609863, \"means\": 0.03920628875494003, \"pct_expressed\": 0.11231884057971014}, {\"genes\": \"S100A8\", \"group\": \"6\", \"logfoldchanges\": -0.4821428656578064, \"pvals\": 0.0002500778734611484, \"pvals_adj\": 0.006117346098754033, \"scores\": 3.662180185317993, \"means\": 0.29451456665992737, \"pct_expressed\": 0.5060975609756098}, {\"genes\": \"S100A8\", \"group\": \"7\", \"logfoldchanges\": -3.6907424926757812, \"pvals\": 9.232797586931212e-06, \"pvals_adj\": 0.0005188457941250466, \"scores\": -4.4344024658203125, \"means\": 0.03815508633852005, \"pct_expressed\": 0.09375}, {\"genes\": \"S100A8\", \"group\": \"8\", \"logfoldchanges\": -1.2304490804672241, \"pvals\": 0.5435670170514295, \"pvals_adj\": 0.9986010129836819, \"scores\": 0.6074278354644775, \"means\": 0.18442249298095703, \"pct_expressed\": 0.3877551020408163}, {\"genes\": \"S100A8\", \"group\": \"9\", \"logfoldchanges\": -1.8480955362319946, \"pvals\": 0.5121110166676079, \"pvals_adj\": 0.9987796114685209, \"scores\": -0.6555541753768921, \"means\": 0.12302473187446594, \"pct_expressed\": 0.18181818181818182}, {\"genes\": \"GNLY\", \"group\": \"0\", \"logfoldchanges\": -2.607862949371338, \"pvals\": 0.002542577967066764, \"pvals_adj\": 0.08220687971456166, \"scores\": -3.0182275772094727, \"means\": 0.04349886253476143, \"pct_expressed\": 0.12195121951219512}, {\"genes\": \"GNLY\", \"group\": \"1\", \"logfoldchanges\": -2.328359603881836, \"pvals\": 0.005622851766801583, \"pvals_adj\": 0.08510511036303688, \"scores\": -2.769000768661499, \"means\": 0.05121252313256264, \"pct_expressed\": 0.12269938650306748}, {\"genes\": \"GNLY\", \"group\": \"2\", \"logfoldchanges\": 0.7064603567123413, \"pvals\": 0.001095196862437935, \"pvals_adj\": 0.0576503310436475, \"scores\": 3.2648561000823975, \"means\": 0.290498822927475, \"pct_expressed\": 0.2664756446991404}, {\"genes\": \"GNLY\", \"group\": \"3\", \"logfoldchanges\": -2.751563549041748, \"pvals\": 0.00030197480888679245, \"pvals_adj\": 0.009946631625787931, \"scores\": -3.613600015640259, \"means\": 0.03681953623890877, \"pct_expressed\": 0.07803468208092486}, {\"genes\": \"GNLY\", \"group\": \"4\", \"logfoldchanges\": -2.8460423946380615, \"pvals\": 0.0018943688629622514, \"pvals_adj\": 0.06264598740857671, \"scores\": -3.106311798095703, \"means\": 0.03427691012620926, \"pct_expressed\": 0.09287925696594428}, {\"genes\": \"GNLY\", \"group\": \"5\", \"logfoldchanges\": -3.1949830055236816, \"pvals\": 0.0006989040556971246, \"pvals_adj\": 0.033697304528886876, \"scores\": -3.3900086879730225, \"means\": 0.026639051735401154, \"pct_expressed\": 0.07246376811594203}, {\"genes\": \"GNLY\", \"group\": \"6\", \"logfoldchanges\": -2.857750177383423, \"pvals\": 0.17197383169078806, \"pvals_adj\": 0.9991667056203217, \"scores\": -1.3658889532089233, \"means\": 0.032057054340839386, \"pct_expressed\": 0.1402439024390244}, {\"genes\": \"GNLY\", \"group\": \"7\", \"logfoldchanges\": 6.7108473777771, \"pvals\": 4.277022451691668e-89, \"pvals_adj\": 2.371466382047973e-85, \"scores\": 20.012605667114258, \"means\": 2.20928955078125, \"pct_expressed\": 0.95625}, {\"genes\": \"GNLY\", \"group\": \"8\", \"logfoldchanges\": -1.6704041957855225, \"pvals\": 0.5382426391608603, \"pvals_adj\": 0.9986010129836819, \"scores\": 0.6154726147651672, \"means\": 0.06850719451904297, \"pct_expressed\": 0.2653061224489796}, {\"genes\": \"GNLY\", \"group\": \"9\", \"logfoldchanges\": -27.737056732177734, \"pvals\": 0.30222246494774696, \"pvals_adj\": 0.9987796114685209, \"scores\": -1.0316791534423828, \"means\": 0.0, \"pct_expressed\": 0.0}, {\"genes\": \"NKG7\", \"group\": \"0\", \"logfoldchanges\": -3.124534845352173, \"pvals\": 1.805822594333212e-14, \"pvals_adj\": 2.6819690209052366e-12, \"scores\": -7.6637492179870605, \"means\": 0.06374643743038177, \"pct_expressed\": 0.15572232645403378}, {\"genes\": \"NKG7\", \"group\": \"1\", \"logfoldchanges\": -2.7573277950286865, \"pvals\": 1.9323922207757206e-09, \"pvals_adj\": 6.853606012874912e-08, \"scores\": -6.003390312194824, \"means\": 0.07910521328449249, \"pct_expressed\": 0.19222903885480572}, {\"genes\": \"NKG7\", \"group\": \"2\", \"logfoldchanges\": 3.505040168762207, \"pvals\": 1.9178631984898862e-117, \"pvals_adj\": 1.5950868221840383e-113, \"scores\": 23.03850746154785, \"means\": 1.3682762384414673, \"pct_expressed\": 0.9054441260744985}, {\"genes\": \"NKG7\", \"group\": \"3\", \"logfoldchanges\": -3.636004686355591, \"pvals\": 5.619155905020609e-15, \"pvals_adj\": 6.872723479714177e-13, \"scores\": -7.812215328216553, \"means\": 0.04182249307632446, \"pct_expressed\": 0.08670520231213873}, {\"genes\": \"NKG7\", \"group\": \"4\", \"logfoldchanges\": -3.6555049419403076, \"pvals\": 6.064638810712548e-13, \"pvals_adj\": 6.725280131826168e-11, \"scores\": -7.199020862579346, \"means\": 0.040855150669813156, \"pct_expressed\": 0.1021671826625387}, {\"genes\": \"NKG7\", \"group\": \"5\", \"logfoldchanges\": -3.7680492401123047, \"pvals\": 3.4796276236084114e-11, \"pvals_adj\": 4.19421202109437e-09, \"scores\": -6.624696254730225, \"means\": 0.037097468972206116, \"pct_expressed\": 0.10144927536231885}, {\"genes\": \"NKG7\", \"group\": \"6\", \"logfoldchanges\": -1.8618271350860596, \"pvals\": 0.4496238158021061, \"pvals_adj\": 0.9991667056203217, \"scores\": -0.7560423612594604, \"means\": 0.12438400834798813, \"pct_expressed\": 0.32926829268292684}, {\"genes\": \"NKG7\", \"group\": \"7\", \"logfoldchanges\": 5.34705114364624, \"pvals\": 8.585543728161244e-95, \"pvals_adj\": 1.4281193437423413e-90, \"scores\": 20.656204223632812, \"means\": 2.5006399154663086, \"pct_expressed\": 1.0}, {\"genes\": \"NKG7\", \"group\": \"8\", \"logfoldchanges\": -1.2990113496780396, \"pvals\": 0.9877530899909699, \"pvals_adj\": 0.9986010129836819, \"scores\": 0.015349828638136387, \"means\": 0.17239493131637573, \"pct_expressed\": 0.3673469387755102}, {\"genes\": \"NKG7\", \"group\": \"9\", \"logfoldchanges\": -28.776081085205078, \"pvals\": 0.08197148972719846, \"pvals_adj\": 0.9987796114685209, \"scores\": -1.7393598556518555, \"means\": 0.0, \"pct_expressed\": 0.0}, {\"genes\": \"KLRB1\", \"group\": \"0\", \"logfoldchanges\": 0.4398367404937744, \"pvals\": 0.346717649051861, \"pvals_adj\": 0.9995829284803396, \"scores\": 0.9409750699996948, \"means\": 0.03367849439382553, \"pct_expressed\": 0.07879924953095685}, {\"genes\": \"KLRB1\", \"group\": \"1\", \"logfoldchanges\": -2.965040683746338, \"pvals\": 0.060693331622810896, \"pvals_adj\": 0.6144691894180381, \"scores\": -1.8757230043411255, \"means\": 0.004109818954020739, \"pct_expressed\": 0.012269938650306749}, {\"genes\": \"KLRB1\", \"group\": \"2\", \"logfoldchanges\": 1.8361623287200928, \"pvals\": 0.004154193724544543, \"pvals_adj\": 0.17672853814341158, \"scores\": 2.8662095069885254, \"means\": 0.07028520107269287, \"pct_expressed\": 0.13753581661891118}, {\"genes\": \"KLRB1\", \"group\": \"3\", \"logfoldchanges\": -24.888307571411133, \"pvals\": 0.05212220534766369, \"pvals_adj\": 0.7720398608664629, \"scores\": -1.9421230554580688, \"means\": 0.0, \"pct_expressed\": 0.0}, {\"genes\": \"KLRB1\", \"group\": \"4\", \"logfoldchanges\": -0.8310080766677856, \"pvals\": 0.4019107946740531, \"pvals_adj\": 0.9999089575788878, \"scores\": -0.8382135033607483, \"means\": 0.015907181426882744, \"pct_expressed\": 0.030959752321981424}, {\"genes\": \"KLRB1\", \"group\": \"5\", \"logfoldchanges\": -1.7517280578613281, \"pvals\": 0.2906537618181869, \"pvals_adj\": 0.9997054800184413, \"scores\": -1.0566885471343994, \"means\": 0.0086141936480999, \"pct_expressed\": 0.021739130434782608}, {\"genes\": \"KLRB1\", \"group\": \"6\", \"logfoldchanges\": -3.763170003890991, \"pvals\": 0.3056202044941174, \"pvals_adj\": 0.9991667056203217, \"scores\": -1.0244554281234741, \"means\": 0.0021081403829157352, \"pct_expressed\": 0.012195121951219513}, {\"genes\": \"KLRB1\", \"group\": \"7\", \"logfoldchanges\": 2.6487720012664795, \"pvals\": 3.0330291176678234e-05, \"pvals_adj\": 0.0015815487881908016, \"scores\": 4.1709723472595215, \"means\": 0.12274641543626785, \"pct_expressed\": 0.2375}, {\"genes\": \"KLRB1\", \"group\": \"8\", \"logfoldchanges\": -24.714401245117188, \"pvals\": 0.4910070691395505, \"pvals_adj\": 0.9986010129836819, \"scores\": -0.6887079477310181, \"means\": 0.0, \"pct_expressed\": 0.0}, {\"genes\": \"KLRB1\", \"group\": \"9\", \"logfoldchanges\": -24.69359016418457, \"pvals\": 0.7459392460527889, \"pvals_adj\": 0.9987796114685209, \"scores\": -0.3239983916282654, \"means\": 0.0, \"pct_expressed\": 0.0}, {\"genes\": \"FCGR3A\", \"group\": \"0\", \"logfoldchanges\": -3.122967004776001, \"pvals\": 3.419881477304933e-09, \"pvals_adj\": 2.947477124015039e-07, \"scores\": -5.910057544708252, \"means\": 0.02096754126250744, \"pct_expressed\": 0.058161350844277676}, {\"genes\": \"FCGR3A\", \"group\": \"1\", \"logfoldchanges\": -1.7546443939208984, \"pvals\": 0.003924168201743995, \"pvals_adj\": 0.061696232389234044, \"scores\": -2.8841941356658936, \"means\": 0.050138868391513824, \"pct_expressed\": 0.12883435582822086}, {\"genes\": \"FCGR3A\", \"group\": \"2\", \"logfoldchanges\": -0.32389262318611145, \"pvals\": 0.5746889994420439, \"pvals_adj\": 0.9999706438317169, \"scores\": 0.5611591935157776, \"means\": 0.11635161191225052, \"pct_expressed\": 0.20916905444126074}, {\"genes\": \"FCGR3A\", \"group\": \"3\", \"logfoldchanges\": -3.7623391151428223, \"pvals\": 1.308743041619105e-07, \"pvals_adj\": 7.88754773706239e-06, \"scores\": -5.277617454528809, \"means\": 0.012606129050254822, \"pct_expressed\": 0.03468208092485549}, {\"genes\": \"FCGR3A\", \"group\": \"4\", \"logfoldchanges\": -3.615753412246704, \"pvals\": 5.475441332093702e-07, \"pvals_adj\": 3.575235955032811e-05, \"scores\": -5.008856296539307, \"means\": 0.013796382583677769, \"pct_expressed\": 0.03715170278637771}, {\"genes\": \"FCGR3A\", \"group\": \"5\", \"logfoldchanges\": -3.7816600799560547, \"pvals\": 1.6881086103353794e-06, \"pvals_adj\": 0.0001319916147155032, \"scores\": -4.787572383880615, \"means\": 0.01208962220698595, \"pct_expressed\": 0.028985507246376812}, {\"genes\": \"FCGR3A\", \"group\": \"6\", \"logfoldchanges\": 4.513201713562012, \"pvals\": 9.708024462023259e-88, \"pvals_adj\": 5.382775963376496e-84, \"scores\": 19.856369018554688, \"means\": 1.066802978515625, \"pct_expressed\": 0.975609756097561}, {\"genes\": \"FCGR3A\", \"group\": \"7\", \"logfoldchanges\": 3.234830141067505, \"pvals\": 2.7789480467652044e-50, \"pvals_adj\": 2.31125109049462e-47, \"scores\": 14.911393165588379, \"means\": 0.7099538445472717, \"pct_expressed\": 0.8125}, {\"genes\": \"FCGR3A\", \"group\": \"8\", \"logfoldchanges\": -2.5518741607666016, \"pvals\": 0.5431989787369982, \"pvals_adj\": 0.9986010129836819, \"scores\": -0.6079826354980469, \"means\": 0.02572721242904663, \"pct_expressed\": 0.16326530612244897}, {\"genes\": \"FCGR3A\", \"group\": \"9\", \"logfoldchanges\": -27.17041015625, \"pvals\": 0.2894224281760348, \"pvals_adj\": 0.9987796114685209, \"scores\": -1.0593894720077515, \"means\": 0.0, \"pct_expressed\": 0.0}, {\"genes\": \"FCER1A\", \"group\": \"0\", \"logfoldchanges\": -3.667093515396118, \"pvals\": 0.45727179522402106, \"pvals_adj\": 0.9995829284803396, \"scores\": -0.7433466911315918, \"means\": 0.0013305889442563057, \"pct_expressed\": 0.00375234521575985}, {\"genes\": \"FCER1A\", \"group\": \"1\", \"logfoldchanges\": -1.3831241130828857, \"pvals\": 0.6675890717936868, \"pvals_adj\": 0.9999488530676257, \"scores\": -0.42945921421051025, \"means\": 0.005949069745838642, \"pct_expressed\": 0.010224948875255624}, {\"genes\": \"FCER1A\", \"group\": \"2\", \"logfoldchanges\": -2.041822671890259, \"pvals\": 0.6818754535151419, \"pvals_adj\": 0.9999706438317169, \"scores\": -0.40990525484085083, \"means\": 0.0037151104770600796, \"pct_expressed\": 0.008595988538681949}, {\"genes\": \"FCER1A\", \"group\": \"3\", \"logfoldchanges\": -4.310083866119385, \"pvals\": 0.5455025444221665, \"pvals_adj\": 0.9997182502898659, \"scores\": -0.6045131087303162, \"means\": 0.0007935353205539286, \"pct_expressed\": 0.002890173410404624}, {\"genes\": \"FCER1A\", \"group\": \"4\", \"logfoldchanges\": -0.5964885950088501, \"pvals\": 0.9499292302572244, \"pvals_adj\": 0.9999089575788878, \"scores\": -0.06279564648866653, \"means\": 0.00948069803416729, \"pct_expressed\": 0.018575851393188854}, {\"genes\": \"FCER1A\", \"group\": \"5\", \"logfoldchanges\": -0.8635869026184082, \"pvals\": 0.9429610339652218, \"pvals_adj\": 0.9997054800184413, \"scores\": -0.07154874503612518, \"means\": 0.007930589839816093, \"pct_expressed\": 0.018115942028985508}, {\"genes\": \"FCER1A\", \"group\": \"6\", \"logfoldchanges\": -3.2972617149353027, \"pvals\": 0.7422495436232716, \"pvals_adj\": 0.9991667056203217, \"scores\": -0.3288758397102356, \"means\": 0.0014862281968817115, \"pct_expressed\": 0.006097560975609756}, {\"genes\": \"FCER1A\", \"group\": \"7\", \"logfoldchanges\": -0.9050106406211853, \"pvals\": 0.9686406155247034, \"pvals_adj\": 1.0, \"scores\": -0.03931328281760216, \"means\": 0.007561070844531059, \"pct_expressed\": 0.01875}, {\"genes\": \"FCER1A\", \"group\": \"8\", \"logfoldchanges\": 7.221512317657471, \"pvals\": 2.088188658423663e-12, \"pvals_adj\": 1.6540442925818674e-09, \"scores\": 7.028464317321777, \"means\": 0.5134817957878113, \"pct_expressed\": 0.5918367346938775}, {\"genes\": \"FCER1A\", \"group\": \"9\", \"logfoldchanges\": -23.72603416442871, \"pvals\": 0.9066728313851803, \"pvals_adj\": 0.9987796114685209, \"scores\": -0.11723626405000687, \"means\": 0.0, \"pct_expressed\": 0.0}, {\"genes\": \"CST3\", \"group\": \"0\", \"logfoldchanges\": -3.6137173175811768, \"pvals\": 1.753866889788675e-31, \"pvals_adj\": 9.410910272498329e-29, \"scores\": -11.67287826538086, \"means\": 0.0695813000202179, \"pct_expressed\": 0.19136960600375236}, {\"genes\": \"CST3\", \"group\": \"1\", \"logfoldchanges\": 4.255520343780518, \"pvals\": 5.6264694113669314e-216, \"pvals_adj\": 1.3370098884096791e-212, \"scores\": 31.36744499206543, \"means\": 1.8082716464996338, \"pct_expressed\": 0.9918200408997955}, {\"genes\": \"CST3\", \"group\": \"2\", \"logfoldchanges\": -3.2558701038360596, \"pvals\": 5.112065585199722e-20, \"pvals_adj\": 2.2377394459003203e-17, \"scores\": -9.161626815795898, \"means\": 0.08024807274341583, \"pct_expressed\": 0.17191977077363896}, {\"genes\": \"CST3\", \"group\": \"3\", \"logfoldchanges\": -3.2244162559509277, \"pvals\": 1.2242715382944103e-19, \"pvals_adj\": 2.1897347062354002e-17, \"scores\": -9.06692123413086, \"means\": 0.0817916989326477, \"pct_expressed\": 0.17341040462427745}, {\"genes\": \"CST3\", \"group\": \"4\", \"logfoldchanges\": -3.227792978286743, \"pvals\": 1.5465527096109561e-16, \"pvals_adj\": 2.0746256267474715e-14, \"scores\": -8.252854347229004, \"means\": 0.08077225834131241, \"pct_expressed\": 0.2043343653250774}, {\"genes\": \"CST3\", \"group\": \"5\", \"logfoldchanges\": -3.4173128604888916, \"pvals\": 8.490994062107382e-16, \"pvals_adj\": 1.3199924787765813e-13, \"scores\": -8.046911239624023, \"means\": 0.06986008584499359, \"pct_expressed\": 0.18115942028985507}, {\"genes\": \"CST3\", \"group\": \"6\", \"logfoldchanges\": 3.007842779159546, \"pvals\": 2.818434338851852e-58, \"pvals_adj\": 1.8752734716984685e-55, \"scores\": 16.09383201599121, \"means\": 1.7055976390838623, \"pct_expressed\": 1.0}, {\"genes\": \"CST3\", \"group\": \"7\", \"logfoldchanges\": -2.5406503677368164, \"pvals\": 2.244796475981687e-06, \"pvals_adj\": 0.00013727920802014478, \"scores\": -4.73003625869751, \"means\": 0.11782040446996689, \"pct_expressed\": 0.2375}, {\"genes\": \"CST3\", \"group\": \"8\", \"logfoldchanges\": 2.5475945472717285, \"pvals\": 2.4742442037214894e-13, \"pvals_adj\": 2.939755577478804e-10, \"scores\": 7.320296287536621, \"means\": 1.5709201097488403, \"pct_expressed\": 0.8775510204081632}, {\"genes\": \"CST3\", \"group\": \"9\", \"logfoldchanges\": 0.8783262968063354, \"pvals\": 0.19678636887579615, \"pvals_adj\": 0.9987796114685209, \"scores\": 1.2907615900039673, \"means\": 0.8127268552780151, \"pct_expressed\": 0.6363636363636364}]}};\n",
       "var opt = {};\n",
       "var type = \"vega-lite\";\n",
       "var id = \"5be55177-6156-43f0-818a-9ef9feece32d\";\n",
       "\n",
       "var output_area = this;\n",
       "\n",
       "require([\"nbextensions/jupyter-vega/index\"], function(vega) {\n",
       "  var target = document.createElement(\"div\");\n",
       "  target.id = id;\n",
       "  target.className = \"vega-embed\";\n",
       "\n",
       "  var style = document.createElement(\"style\");\n",
       "  style.textContent = [\n",
       "    \".vega-embed .error p {\",\n",
       "    \"  color: firebrick;\",\n",
       "    \"  font-size: 14px;\",\n",
       "    \"}\",\n",
       "  ].join(\"\\\\n\");\n",
       "\n",
       "  // element is a jQuery wrapped DOM element inside the output area\n",
       "  // see http://ipython.readthedocs.io/en/stable/api/generated/\\\n",
       "  // IPython.display.html#IPython.display.Javascript.__init__\n",
       "  element[0].appendChild(target);\n",
       "  element[0].appendChild(style);\n",
       "\n",
       "  vega.render(\"#\" + id, spec, type, opt, output_area);\n",
       "}, function (err) {\n",
       "  if (err.requireType !== \"scripterror\") {\n",
       "    throw(err);\n",
       "  }\n",
       "});\n"
      ],
      "text/plain": [
       "<vega.vegalite.VegaLite at 0x127a33438>"
      ]
     },
     "metadata": {
      "jupyter-vega": "#5be55177-6156-43f0-818a-9ef9feece32d"
     },
     "output_type": "display_data"
    },
    {
     "data": {
      "text/plain": []
     },
     "execution_count": 13,
     "metadata": {},
     "output_type": "execute_result"
    },
    {
     "data": {
      "image/png": "[encoded data removed]"
     },
     "metadata": {
      "jupyter-vega": "#5be55177-6156-43f0-818a-9ef9feece32d"
     },
     "output_type": "display_data"
    }
   ],
   "source": [
    "alt.Chart(plotdf).mark_circle().encode(\n",
    "    x='group:O',\n",
    "    y='genes:O',\n",
    "    size='pct_expressed:Q',\n",
    "    color=alt.Color(\n",
    "        \"pvals_adj:Q\",\n",
    "        scale=alt.Scale(domain=[1,0], scheme=\"reds\")\n",
    "    )\n",
    ")"
   ]
  },
  {
   "cell_type": "code",
   "execution_count": null,
   "metadata": {},
   "outputs": [],
   "source": []
  }
 ],
 "metadata": {
  "kernelspec": {
   "display_name": "Python3",
   "language": "python",
   "name": "python3"
  },
  "language_info": {
   "codemirror_mode": {
    "name": "ipython",
    "version": 3
   },
   "file_extension": ".py",
   "mimetype": "text/x-python",
   "name": "python",
   "nbconvert_exporter": "python",
   "pygments_lexer": "ipython3",
   "version": "3.7.3"
  },
  "toc": {
   "colors": {
    "hover_highlight": "#DAA520",
    "navigate_num": "#000000",
    "navigate_text": "#333333",
    "running_highlight": "#FF0000",
    "selected_highlight": "#FFD700",
    "sidebar_border": "#EEEEEE",
    "wrapper_background": "#FFFFFF"
   },
   "moveMenuLeft": true,
   "nav_menu": {
    "height": "82.94117736816406px",
    "width": "252.35293579101562px"
   },
   "navigate_menu": true,
   "number_sections": false,
   "sideBar": false,
   "threshold": 4,
   "toc_cell": false,
   "toc_section_display": "block",
   "toc_window_display": false,
   "widenNotebook": false
  }
 },
 "nbformat": 4,
 "nbformat_minor": 2
}
